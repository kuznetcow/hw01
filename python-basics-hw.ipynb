{
 "cells": [
  {
   "cell_type": "markdown",
   "metadata": {},
   "source": [
    "**Задание 1**. Даны 2 строки: *long_phrase* и *short_phrase*. \n",
    "Напишите код, который проверяет действительно ли длинная фраза *long_phrase* длиннее короткой *short_phrase*. И выводит *True* или *False* в зависимости от результата сравнения."
   ]
  },
  {
   "cell_type": "code",
   "execution_count": 1,
   "metadata": {},
   "outputs": [],
   "source": [
    "long_phrase = 'Насколько проще было бы писать программы, если бы не заказчики'\n",
    "short_phrase = '640Кб должно хватить для любых задач. Билл Гейтс (по легенде)'"
   ]
  },
  {
   "cell_type": "code",
   "execution_count": 2,
   "metadata": {},
   "outputs": [
    {
     "data": {
      "text/plain": [
       "True"
      ]
     },
     "execution_count": 2,
     "metadata": {},
     "output_type": "execute_result"
    }
   ],
   "source": [
    "len(long_phrase) > len(short_phrase)\n"
   ]
  },
  {
   "cell_type": "markdown",
   "metadata": {},
   "source": [
    "**Задание 2**. Дано значение объема файла в байтах. Напишите перевод этого значения в мегабайты в формате: \"*Объем файла равен 213.68Mb*\""
   ]
  },
  {
   "cell_type": "code",
   "execution_count": 3,
   "metadata": {},
   "outputs": [
    {
     "name": "stdout",
     "output_type": "stream",
     "text": [
      "Объем файла равен  6.68 Mb\n"
     ]
    }
   ],
   "source": [
    "size = 7000000\n",
    "print('Объем файла равен ', \"%.2f\" % (size/(1024*1024)), 'Mb')\n"
   ]
  },
  {
   "cell_type": "markdown",
   "metadata": {},
   "source": [
    "**Задание 3**. Разработать приложение для определения знака зодиака по дате рождения. Пример:\n",
    "\n",
    "Введите месяц: март\n",
    "\n",
    "Введите число: 6\n",
    "\n",
    "Вывод:\n",
    "Рыбы"
   ]
  },
  {
   "cell_type": "code",
   "execution_count": 4,
   "metadata": {},
   "outputs": [
    {
     "name": "stdout",
     "output_type": "stream",
     "text": [
      "Введите месяцдекабрь\n",
      "Введите число31\n",
      "Козерог\n"
     ]
    }
   ],
   "source": [
    "m_text = input ('Введите месяц')\n",
    "\n",
    "if m_text == 'январь':\n",
    "    days = 0 # количество дней от начала года до первого дня указанного месяца\n",
    "elif m_text == 'февраль':\n",
    "    days = 31\n",
    "elif m_text == 'март':\n",
    "    days = 60\n",
    "elif m_text == 'апрель':\n",
    "    days = 91\n",
    "elif m_text == 'май':\n",
    "    days = 121\n",
    "elif m_text == 'июнь':\n",
    "    days = 152\n",
    "elif m_text == 'июль':\n",
    "    days = 182\n",
    "elif m_text == 'август':\n",
    "    days = 213\n",
    "elif m_text == 'сентябрь':\n",
    "    days = 244\n",
    "elif m_text == 'октябрь':\n",
    "    days = 274\n",
    "elif m_text == 'ноябрь':\n",
    "    days = 305\n",
    "elif m_text == 'декабрь':\n",
    "    days = 335\n",
    "else:\n",
    "    print('Неверно указан месяц')\n",
    "\n",
    "days_num = int(days)    \n",
    "dd = input ('Введите число')\n",
    "dd_num = int(dd)\n",
    "\n",
    "if dd_num > 31:\n",
    "    print('Неверно указан день')\n",
    "else:\n",
    "    days_num = days_num + dd_num\n",
    "\n",
    "\n",
    "if days_num <=20 or days_num >=357:\n",
    "    a_sign = 'Козерог'\n",
    "elif days_num >=21 and days_num <=51:\n",
    "    a_sign = 'Водолей'\n",
    "elif days_num >=52 and days_num <=80:\n",
    "    a_sign = 'Рыбы'\n",
    "elif days_num >=81 and days_num <=111:\n",
    "    a_sign = 'Овен'\n",
    "elif days_num >=112 and days_num <=141:\n",
    "    a_sign = 'Телец'\n",
    "elif days_num >=142 and days_num <=173:\n",
    "    a_sign = 'Близнецы'\n",
    "elif days_num >=174 and days_num <=204:\n",
    "    a_sign = 'Рак'\n",
    "elif days_num >=205 and days_num <=236:\n",
    "    a_sign = 'Лев'\n",
    "elif days_num >=237 and days_num <=267:\n",
    "    a_sign = 'Дева'\n",
    "elif days_num >=268 and days_num <=297:\n",
    "    a_sign = 'Весы'\n",
    "elif days_num >=298 and days_num <=327:\n",
    "    a_sign = 'Скорпион'\n",
    "elif days_num >=328 and days_num <=356:\n",
    "    a_sign = 'Стрелец'\n",
    "else:\n",
    "    a_sign = ''\n",
    "\n",
    "print(a_sign)"
   ]
  },
  {
   "cell_type": "markdown",
   "metadata": {},
   "source": [
    "**Задание 4**. Нужно разработать приложение для финансового планирования.\n",
    "Приложение учитывает сколько уходит на ипотеку, \"на жизнь\" и сколько нужно отложить на пенсию.\n",
    "Пользователь вводит:\n",
    "- заработанную плату в месяц.\n",
    "- сколько процентов от ЗП уходит на ипотеку.\n",
    "- сколько процентов от ЗП уходит \"на жизнь\".\n",
    "- сколько раз приходит премия в год.\n",
    "\n",
    "Остальная часть заработанной платы откладывается на пенсию.\n",
    "\n",
    "Также пользователю приходит премия в размере зарплаты, от которой половина уходит на отпуск, а вторая половина откладывается.\n",
    "\n",
    "Программа должна учитывать сколько премий было в год.\n",
    "\n",
    "Нужно вывести сколько денег тратит пользователь на ипотеку и сколько он накопит за год.\n",
    "\n",
    "Пример:\n",
    "\n",
    "Введите заработанную плату в месяц: 100000\n",
    "\n",
    "Введите сколько процентов уходит на ипотеку: 30\n",
    "\n",
    "Введите сколько процентов уходит на жизнь: 50\n",
    "\n",
    "Введите количество премий за год: 2\n",
    "\n",
    "Вывод:\n",
    "На ипотеку было потрачено: 360000 рублей\n",
    "Было накоплено: 340000 рублей"
   ]
  },
  {
   "cell_type": "code",
   "execution_count": 5,
   "metadata": {},
   "outputs": [
    {
     "name": "stdout",
     "output_type": "stream",
     "text": [
      "Введите заработанную плату в месяц100000\n",
      "Введите сколько процентов уходит на ипотеку30\n",
      "Введите сколько процентов уходит на жизнь50\n",
      "Введите количество премий за год2\n",
      "На ипотеку было потрачено 360000 рублей\n",
      "Было накоплено 340000 рублей\n"
     ]
    }
   ],
   "source": [
    "salary = input ('Введите заработанную плату в месяц')\n",
    "salary_num = int (salary)\n",
    "mrtg = input ('Введите сколько процентов уходит на ипотеку')\n",
    "mrtg_num = int (mrtg)/100\n",
    "crnt = input ('Введите сколько процентов уходит на жизнь')\n",
    "crnt_num = int (crnt)/100\n",
    "prize = input ('Введите количество премий за год')\n",
    "prize_num = int (prize)*salary_num\n",
    "prize_num_rest = 0.5*prize_num\n",
    "mrtg_total = 12*mrtg_num*salary_num\n",
    "rest_total = 12*salary_num*(1-mrtg_num-crnt_num) + prize_num_rest\n",
    "\n",
    "print('На ипотеку было потрачено', \"%.0f\" % mrtg_total, 'рублей')\n",
    "print('Было накоплено', \"%.0f\" % rest_total, 'рублей')"
   ]
  },
  {
   "cell_type": "code",
   "execution_count": null,
   "metadata": {},
   "outputs": [],
   "source": []
  }
 ],
 "metadata": {
  "kernelspec": {
   "display_name": "Python 3",
   "language": "python",
   "name": "python3"
  },
  "language_info": {
   "codemirror_mode": {
    "name": "ipython",
    "version": 3
   },
   "file_extension": ".py",
   "mimetype": "text/x-python",
   "name": "python",
   "nbconvert_exporter": "python",
   "pygments_lexer": "ipython3",
   "version": "3.7.4"
  }
 },
 "nbformat": 4,
 "nbformat_minor": 2
}
